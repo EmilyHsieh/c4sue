{
  "nbformat": 4,
  "nbformat_minor": 0,
  "metadata": {
    "colab": {
      "name": "class_7.ipynb",
      "provenance": [],
      "collapsed_sections": []
    },
    "kernelspec": {
      "name": "python3",
      "display_name": "Python 3"
    }
  },
  "cells": [
    {
      "cell_type": "markdown",
      "metadata": {
        "id": "zOJQ4tz5pBHw",
        "colab_type": "text"
      },
      "source": [
        "# Welcome to Jupyter Notebook! \n",
        "\n",
        "Today we will work with Google Colab which is a tool to share Jupyter Notebooks. Before we dive into workinng with actual datasets we'll do some exercises to learn the fonctionality of Jupyter Notebook. \n",
        "\n",
        "As we will learn during our sessions, there are many fun and cool things about Jupyter. \n",
        "\n",
        "To name a few: \n",
        "\n",
        "- It is part of the Open Source movement and therefore is totally free!\n",
        "- Jupyter Notebooks are a powerful tool for interactively working as well as presenting your code. One of the features I like most about Jupyter is that it enables data scientists to be totally transparent about their work and display it to audience from different backgrounds. Yes, that's right, you do not need to have programming knowledge to understand a notebook. That is because Jupyter works in a format of immidiate input and output. So if you are reading a notebook written by someone else and they have created bar plots to display the amount of rain for the past 10 years you could see the output of the code (the bar plot). In this case you do not have to understand the code to understand the output of said analysis. \n",
        "- Another thing is that it is possible to write in a few languages on Jupyter (like SQL). Having said that, Python is by far the most popular and easy to work with on Jupyter. \n",
        "- We will learn some programming in this class. But will mostly focus on specific functionalities to working with data, espcially spatial data. \n",
        "\n",
        "## Install Anaconda on your computer. \n",
        "Note that this step is **not** needed for today's class. Going forward, it is preferable that you all have Jupyter and Python installed on your machines. Anaconda is the simplest way to have these on your computer. \n",
        "1. Go to [anaconda.com ](https://)\n",
        "2. Click the **download** button and follow the steps as instructed\n",
        "3. You will notice that on the anaconda website you will have an option to download two versions of Python: Python 3.7 or Python 2.7. Note that the open source community **stopped** supporting Python 2.7 on Jan 1st 2020. **Therefore, we will all be downloading and working with python 3.7.** \n",
        "4. Follow the prompts and choose the best option according to your operating system (Mac OS, Windows or Linux). \n",
        "Video tutorial for installing Anaconda: https://www.linkedin.com/learning/introducing-jupyter/installing-jupyter?u=2131553\n",
        "\n",
        "## Running Jupyter: \n",
        "- Now let’s make sure Jupyter actually works. There are two ways to launch it \n",
        "1. By going to the command line and navigating to your working directory. Linux and MacOS command lines use bash a script language. You do not have to know how to use your command line. But this could be useful information for sure. To navigate to a directory you need to cd into the folder name. For example for me to navigate into this class directory I will need to type: cd Documents/ComputingClass/class_7/  \n",
        "Tip: use \"tab\" often when you don't remember the full folder name. For example you could type: Docu and then Tab for the computer to auto complete the folder name to Documents.  \n",
        "    * Once you are in the right directory, write “Jupyter notebook” and Jupyter will be launched on your default browser \n",
        "    * This will open the Jupyter dashboard which will show all the contents of your work folder \n",
        "    * You will see on the right side of the screen a square that says - New- then you could launch a new Python 3 notebook \n",
        "2. You could also open Jupyter directly from Anaconda — this is probably the easiest way to open Jupyter notebooks. \n",
        "\n",
        "\n"
      ]
    },
    {
      "cell_type": "code",
      "metadata": {
        "id": "4ao4dND177ir",
        "colab_type": "code",
        "colab": {}
      },
      "source": [
        "from google.colab import files\n",
        "from IPython.display import Image"
      ],
      "execution_count": 0,
      "outputs": []
    },
    {
      "cell_type": "code",
      "metadata": {
        "id": "enXJ6buO8bkI",
        "colab_type": "code",
        "outputId": "cd9e454c-8ecc-4e82-e387-d00691f19d0d",
        "colab": {
          "resources": {
            "http://localhost:8080/nbextensions/google.colab/files.js": {
              "data": "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",
              "ok": true,
              "headers": [
                [
                  "content-type",
                  "application/javascript"
                ]
              ],
              "status": 200,
              "status_text": ""
            }
          },
          "base_uri": "https://localhost:8080/",
          "height": 37
        }
      },
      "source": [
        "\n",
        "uploaded = files.upload()"
      ],
      "execution_count": 6,
      "outputs": [
        {
          "output_type": "display_data",
          "data": {
            "text/html": [
              "\n",
              "     <input type=\"file\" id=\"files-e4393832-caae-4db9-942e-c9a105b2527c\" name=\"files[]\" multiple disabled />\n",
              "     <output id=\"result-e4393832-caae-4db9-942e-c9a105b2527c\">\n",
              "      Upload widget is only available when the cell has been executed in the\n",
              "      current browser session. Please rerun this cell to enable.\n",
              "      </output>\n",
              "      <script src=\"/nbextensions/google.colab/files.js\"></script> "
            ],
            "text/plain": [
              "<IPython.core.display.HTML object>"
            ]
          },
          "metadata": {
            "tags": []
          }
        }
      ]
    },
    {
      "cell_type": "code",
      "metadata": {
        "id": "5H6jGRmr94MD",
        "colab_type": "code",
        "outputId": "76218aa4-ad29-4b98-925e-3d2c568668d8",
        "colab": {
          "base_uri": "https://localhost:8080/",
          "height": 34
        }
      },
      "source": [
        "Image('Screen Shot 2020-03-19 at 1.58.34 PM.png', width=650)"
      ],
      "execution_count": 7,
      "outputs": [
        {
          "output_type": "execute_result",
          "data": {
            "image/png": "Screen Shot 2020-03-19 at 1.58.34 PM.png",
            "text/plain": [
              "<IPython.core.display.Image object>"
            ]
          },
          "metadata": {
            "tags": [],
            "image/png": {
              "width": 650
            }
          },
          "execution_count": 7
        }
      ]
    },
    {
      "cell_type": "code",
      "metadata": {
        "id": "5QhdEm3xUCvR",
        "colab_type": "code",
        "outputId": "af26af45-5cb2-4a32-9957-d05240167567",
        "colab": {
          "resources": {
            "http://localhost:8080/nbextensions/google.colab/files.js": {
              "data": "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",
              "ok": true,
              "headers": [
                [
                  "content-type",
                  "application/javascript"
                ]
              ],
              "status": 200,
              "status_text": ""
            }
          },
          "base_uri": "https://localhost:8080/",
          "height": 37
        }
      },
      "source": [
        "uploaded = files.upload()"
      ],
      "execution_count": 0,
      "outputs": [
        {
          "output_type": "display_data",
          "data": {
            "text/html": [
              "\n",
              "     <input type=\"file\" id=\"files-cb3f5f0d-81ec-4f32-bef3-a85e411819bb\" name=\"files[]\" multiple disabled />\n",
              "     <output id=\"result-cb3f5f0d-81ec-4f32-bef3-a85e411819bb\">\n",
              "      Upload widget is only available when the cell has been executed in the\n",
              "      current browser session. Please rerun this cell to enable.\n",
              "      </output>\n",
              "      <script src=\"/nbextensions/google.colab/files.js\"></script> "
            ],
            "text/plain": [
              "<IPython.core.display.HTML object>"
            ]
          },
          "metadata": {
            "tags": []
          }
        }
      ]
    },
    {
      "cell_type": "markdown",
      "metadata": {
        "id": "mJ_IFrxAURWt",
        "colab_type": "text"
      },
      "source": [
        "Here's how to launch a new notebook:"
      ]
    },
    {
      "cell_type": "code",
      "metadata": {
        "id": "aQyOyFniULND",
        "colab_type": "code",
        "outputId": "07e20542-9adb-4dd6-b559-7986c98dbd01",
        "colab": {
          "base_uri": "https://localhost:8080/",
          "height": 34
        }
      },
      "source": [
        "Image('Screen Shot 2020-03-19 at 3.40.54 PM.png', width=350)"
      ],
      "execution_count": 0,
      "outputs": [
        {
          "output_type": "execute_result",
          "data": {
            "image/png": "Screen Shot 2020-03-19 at 3.40.54 PM.png",
            "text/plain": [
              "<IPython.core.display.Image object>"
            ]
          },
          "metadata": {
            "tags": [],
            "image/png": {
              "width": 350
            }
          },
          "execution_count": 6
        }
      ]
    },
    {
      "cell_type": "markdown",
      "metadata": {
        "id": "5tvmO7rYVLOW",
        "colab_type": "text"
      },
      "source": [
        "Notice that Jupyter will only give you access to files that are in the directory you are at. In addition, you may have noticed that the URL Jupyter opens looks something alike this: http://localhost:8888/tree \n",
        "Note that this is not a website but a local machine that runs on your laptop. "
      ]
    },
    {
      "cell_type": "markdown",
      "metadata": {
        "id": "dEOnaeXpXoTr",
        "colab_type": "text"
      },
      "source": [
        "# About the Jupyter Notebook GUI:\n",
        "As mentioned, today we will work on a Google Colab, which is version of Jupyter which does not require downloading or installing anything. This is because the colab runs on the cloud. Python and the packages are all installed on Google's machines and we don't need to worry about it. This is a good way to interact with Jupyter at first because is enables learning Jupyter without the need to first install packages. in future classes we will rely more on having Jupyter on our machines. In most part it looks the same. However there are some differences we will cover in the next week. \n",
        "\n",
        "**Cells** are an important element of Jupyter Notebooks, code and text are the two main types of cells used on notebooks. The code cell is used to write script and the text one is used to write markdown which like the one you are reading right now. \n",
        "\n",
        "The easiest way to **run a cell** is to click shift-enter at the same time. \n",
        "\n",
        "\n",
        "\n",
        "OK, it's time to start doing some fun stuff with Jupyter!            "
      ]
    },
    {
      "cell_type": "markdown",
      "metadata": {
        "id": "BZU0RHj6W_--",
        "colab_type": "text"
      },
      "source": [
        "# Getting started with some basic commands"
      ]
    },
    {
      "cell_type": "markdown",
      "metadata": {
        "id": "VFY_km-A79uC",
        "colab_type": "text"
      },
      "source": [
        "Let's start with a simple command: "
      ]
    },
    {
      "cell_type": "code",
      "metadata": {
        "id": "Y-YEFU3Jo2AX",
        "colab_type": "code",
        "colab": {}
      },
      "source": [
        "#for example, we can define \"greeting\" \n",
        "greeting = 'Hey there C4SUE!'"
      ],
      "execution_count": 0,
      "outputs": []
    },
    {
      "cell_type": "code",
      "metadata": {
        "id": "IRuvHDBho5rM",
        "colab_type": "code",
        "outputId": "51842130-0e4b-4b84-a341-6697544a1459",
        "colab": {
          "base_uri": "https://localhost:8080/",
          "height": 34
        }
      },
      "source": [
        "print (greeting)"
      ],
      "execution_count": 14,
      "outputs": [
        {
          "output_type": "stream",
          "text": [
            "Hey there C4SUE!\n"
          ],
          "name": "stdout"
        }
      ]
    },
    {
      "cell_type": "code",
      "metadata": {
        "id": "X90DTsCio8XE",
        "colab_type": "code",
        "colab": {}
      },
      "source": [
        "#and then \"question\" \n",
        "question = 'How are you?'"
      ],
      "execution_count": 0,
      "outputs": []
    },
    {
      "cell_type": "code",
      "metadata": {
        "id": "qooap7wHucsm",
        "colab_type": "code",
        "outputId": "3cb6fc27-e23f-4251-9426-634dbaca6b28",
        "colab": {
          "base_uri": "https://localhost:8080/",
          "height": 34
        }
      },
      "source": [
        "print (question)"
      ],
      "execution_count": 16,
      "outputs": [
        {
          "output_type": "stream",
          "text": [
            "How are you?\n"
          ],
          "name": "stdout"
        }
      ]
    },
    {
      "cell_type": "code",
      "metadata": {
        "id": "UtiRDaWKo-v4",
        "colab_type": "code",
        "outputId": "4a00202d-84b6-4fa5-a38e-eefe9609abf4",
        "colab": {
          "base_uri": "https://localhost:8080/",
          "height": 34
        }
      },
      "source": [
        "print (greeting,question)"
      ],
      "execution_count": 17,
      "outputs": [
        {
          "output_type": "stream",
          "text": [
            "Hey there C4SUE! How are you?\n"
          ],
          "name": "stdout"
        }
      ]
    },
    {
      "cell_type": "code",
      "metadata": {
        "id": "seh4LlLjyXYg",
        "colab_type": "code",
        "colab": {}
      },
      "source": [
        "# you can also define variables \n",
        "X = 30\n",
        "Y = 15 "
      ],
      "execution_count": 0,
      "outputs": []
    },
    {
      "cell_type": "code",
      "metadata": {
        "id": "fqMhhNSlyg5k",
        "colab_type": "code",
        "outputId": "59108e88-2ea2-4ba9-c5fa-3278c91cd174",
        "colab": {
          "base_uri": "https://localhost:8080/",
          "height": 34
        }
      },
      "source": [
        "# and now we can do multiple things like calculate this:\n",
        "\n",
        "X+Y "
      ],
      "execution_count": 24,
      "outputs": [
        {
          "output_type": "execute_result",
          "data": {
            "text/plain": [
              "45"
            ]
          },
          "metadata": {
            "tags": []
          },
          "execution_count": 24
        }
      ]
    },
    {
      "cell_type": "code",
      "metadata": {
        "id": "CUIrcQGozFL2",
        "colab_type": "code",
        "outputId": "d9abe1b4-7795-4a07-c6ca-96f60bb86baa",
        "colab": {
          "base_uri": "https://localhost:8080/",
          "height": 34
        }
      },
      "source": [
        " #Or these: \n",
        " X*Y"
      ],
      "execution_count": 25,
      "outputs": [
        {
          "output_type": "execute_result",
          "data": {
            "text/plain": [
              "450"
            ]
          },
          "metadata": {
            "tags": []
          },
          "execution_count": 25
        }
      ]
    },
    {
      "cell_type": "code",
      "metadata": {
        "id": "2k8uDMpPzSEb",
        "colab_type": "code",
        "outputId": "7a32e1fa-495d-4868-8dc6-3bb81c38fef8",
        "colab": {
          "base_uri": "https://localhost:8080/",
          "height": 34
        }
      },
      "source": [
        "2*(X-4*Y)"
      ],
      "execution_count": 26,
      "outputs": [
        {
          "output_type": "execute_result",
          "data": {
            "text/plain": [
              "-60"
            ]
          },
          "metadata": {
            "tags": []
          },
          "execution_count": 26
        }
      ]
    },
    {
      "cell_type": "code",
      "metadata": {
        "id": "cWP8aBDqzYWR",
        "colab_type": "code",
        "outputId": "25f04094-a67d-462e-8723-4983c0a8fd42",
        "colab": {
          "base_uri": "https://localhost:8080/",
          "height": 34
        }
      },
      "source": [
        "Y/X"
      ],
      "execution_count": 27,
      "outputs": [
        {
          "output_type": "execute_result",
          "data": {
            "text/plain": [
              "0.5"
            ]
          },
          "metadata": {
            "tags": []
          },
          "execution_count": 27
        }
      ]
    },
    {
      "cell_type": "markdown",
      "metadata": {
        "id": "TXzbdd7BpNmO",
        "colab_type": "text"
      },
      "source": [
        "### Packages: \n",
        "On Jupyter, we can load packages to perform certain analyses and execute code. Usually we will load packages at the beginning of our Jupyter Notebook. That helps us stay organized with our code.  \n",
        "\n",
        "### Matplotlib\n",
        "\n",
        "Matplotlib is a package used quite a lot with Jupyter. In particular, matplotlib.pyplot provides cool ways to visualize data. Le'ts give it a try. First let's import all packages needed for today"
      ]
    },
    {
      "cell_type": "code",
      "metadata": {
        "id": "rnRP5GAYpOi1",
        "colab_type": "code",
        "colab": {}
      },
      "source": [
        "import matplotlib.pyplot as plt\n",
        "import numpy as np\n",
        "import pandas as pd\n",
        "import matplotlib\n",
        "from numpy.random import rand\n",
        "%matplotlib inline"
      ],
      "execution_count": 0,
      "outputs": []
    },
    {
      "cell_type": "markdown",
      "metadata": {
        "id": "NNaVvV0mqHGG",
        "colab_type": "text"
      },
      "source": [
        "At any point, we can get help from Jupyter using a simple command to see the docomentation for the package. "
      ]
    },
    {
      "cell_type": "code",
      "metadata": {
        "id": "xldNudQ7qI2f",
        "colab_type": "code",
        "colab": {}
      },
      "source": [
        "# If you execute this command you could see all the pyplot docomentation. \n",
        "#?plt.plot"
      ],
      "execution_count": 0,
      "outputs": []
    },
    {
      "cell_type": "markdown",
      "metadata": {
        "id": "KVaATpeo73-o",
        "colab_type": "text"
      },
      "source": [
        "## 1. basic features: display data on X and Y axis "
      ]
    },
    {
      "cell_type": "code",
      "metadata": {
        "id": "yw-uA8aWlRag",
        "colab_type": "code",
        "colab": {}
      },
      "source": [
        "# Let's start with some fake data influenced by data from https://datatofish.com/plot-dataframe-pandas/ \n",
        "# First, we can start with the Stock_index_price and then we mean_income\n",
        "\n",
        "#start with first column:\n",
        "\n",
        "Stock_index_price = [1500, 1520, 1525, 1523, 1515, 1540, 1545, 1560, 1555]"
      ],
      "execution_count": 0,
      "outputs": []
    },
    {
      "cell_type": "code",
      "metadata": {
        "id": "jaUrE0-NqQEC",
        "colab_type": "code",
        "colab": {}
      },
      "source": [
        "# now let's go ahead and write up the second column: \n",
        "mean_income = [1750, 1780 , 1800 , 1770, 1700, 1750, 1800, 1850 , 1800]"
      ],
      "execution_count": 0,
      "outputs": []
    },
    {
      "cell_type": "code",
      "metadata": {
        "id": "J8sAA_DJqwEm",
        "colab_type": "code",
        "colab": {}
      },
      "source": [
        "# let's add imaginary years for the data: \n",
        "year = [2000, 2001, 2002, 2003, 2004, 2005, 2006, 2007, 2008]"
      ],
      "execution_count": 0,
      "outputs": []
    },
    {
      "cell_type": "code",
      "metadata": {
        "id": "_d6O4Gr4rGl0",
        "colab_type": "code",
        "outputId": "89c20376-8906-4b78-d897-377756c9f5ee",
        "colab": {
          "base_uri": "https://localhost:8080/",
          "height": 265
        }
      },
      "source": [
        "#now let's create a simple plot: we will want to plot the years and the stock index prices\n",
        "# using the plt.plot() commands. \n",
        "#The first argument will be for the X axis and the second is the colum we want to plot on the Y axis: \n",
        "\n",
        "plt.plot(year, Stock_index_price)\n",
        "\n",
        "# we know what pyplot to actually show the chart we are visualizing\n",
        "plt.show()\n"
      ],
      "execution_count": 35,
      "outputs": [
        {
          "output_type": "display_data",
          "data": {
            "image/png": "[encoded data removed]",
            "text/plain": [
              "<Figure size 432x288 with 1 Axes>"
            ]
          },
          "metadata": {
            "tags": []
          }
        }
      ]
    },
    {
      "cell_type": "markdown",
      "metadata": {
        "id": "m0R-TAnes2X0",
        "colab_type": "text"
      },
      "source": [
        "Here's our first pychart! \n",
        "\n",
        "Look at the axis and see that the X axis is defined from the \"Year\" column and the Y is the Stock range. "
      ]
    },
    {
      "cell_type": "code",
      "metadata": {
        "id": "EcjVRJ5Pzb5N",
        "colab_type": "code",
        "outputId": "39195820-e3ba-447c-983a-99ad51ef5fb3",
        "colab": {
          "base_uri": "https://localhost:8080/",
          "height": 279
        }
      },
      "source": [
        "#Now let's add labels to our chart adn also display the income data. \n",
        "#In pyplot X and Y axis are added like this:\n",
        "\n",
        "#again year and stock index prices but also add another Y for the income: \n",
        "\n",
        "# note that we the way we add two variables to one chart works like this: \n",
        "#plt.plot(Xaxis, Y1axis, Xaxis, Y2axis):\n",
        "\n",
        "plt.plot(year, Stock_index_price, year, mean_income)\n",
        "\n",
        "#we also want to add x and y labels: \n",
        "\n",
        "# first X, which is years: \n",
        "plt.xlabel('Yaer')\n",
        "plt.ylabel('Stock Price / Income')\n",
        "# we know what pyplot to actually show the chart we are visualizing\n",
        "plt.show()\n",
        " "
      ],
      "execution_count": 36,
      "outputs": [
        {
          "output_type": "display_data",
          "data": {
            "image/png": "[encoded data removed]",
            "text/plain": [
              "<Figure size 432x288 with 1 Axes>"
            ]
          },
          "metadata": {
            "tags": []
          }
        }
      ]
    },
    {
      "cell_type": "code",
      "metadata": {
        "id": "kVv5-U6T5xJw",
        "colab_type": "code",
        "outputId": "8f631df5-4f99-4bac-a369-b59419f5fb29",
        "colab": {
          "base_uri": "https://localhost:8080/",
          "height": 279
        }
      },
      "source": [
        "# next step, I don't like these deafult colors (blue and orange)\n",
        "# let's copy paste the same code and add colors, in the plt.plot() command.\n",
        "\n",
        "\n",
        "plt.plot(year, Stock_index_price, 'c', year, mean_income, 'k')\n",
        "\n",
        "# we'll talk more about colors later in this notebook\n",
        "\n",
        "plt.xlabel('Yaer')\n",
        "plt.ylabel('Stock Price / Income')\n",
        " \n",
        "\n",
        "plt.show()"
      ],
      "execution_count": 39,
      "outputs": [
        {
          "output_type": "display_data",
          "data": {
            "image/png": "[encoded data removed]",
            "text/plain": [
              "<Figure size 432x288 with 1 Axes>"
            ]
          },
          "metadata": {
            "tags": []
          }
        }
      ]
    },
    {
      "cell_type": "markdown",
      "metadata": {
        "id": "uzpA8Alq8GKV",
        "colab_type": "text"
      },
      "source": [
        "## 2. more examples: display colors and line types"
      ]
    },
    {
      "cell_type": "code",
      "metadata": {
        "id": "3n5scGAwqYIW",
        "colab_type": "code",
        "outputId": "16c152a3-3a05-44ef-dc26-8ccc93e7bfb0",
        "colab": {
          "base_uri": "https://localhost:8080/",
          "height": 279
        }
      },
      "source": [
        " # Now let's try another simple plot, with a range of 1-7. \n",
        "plt.plot([1, 2, 3, 4, 5, 6, 7])\n",
        "\n",
        "# add labels: \n",
        "plt.ylabel('Y')\n",
        "plt.xlabel('X')\n",
        "# and again use the plt.show() command that will visualize the our plot\n",
        "plt.show()"
      ],
      "execution_count": 40,
      "outputs": [
        {
          "output_type": "display_data",
          "data": {
            "image/png": "[encoded data removed]",
            "text/plain": [
              "<Figure size 432x288 with 1 Axes>"
            ]
          },
          "metadata": {
            "tags": []
          }
        }
      ]
    },
    {
      "cell_type": "markdown",
      "metadata": {
        "id": "ZLs_CqH2qkXt",
        "colab_type": "text"
      },
      "source": [
        "Now let's change the plot type from line (default) to dots ('ro'). Also, let's change the location of the dots so it is not as symmatrical as before.\n"
      ]
    },
    {
      "cell_type": "code",
      "metadata": {
        "id": "BFmxXQEiqfAg",
        "colab_type": "code",
        "outputId": "2b1f139a-87cf-4630-8b6c-4940e08e3664",
        "colab": {
          "base_uri": "https://localhost:8080/",
          "height": 265
        }
      },
      "source": [
        "plt.plot([1, 2, 3, 4, 5], [1, 4, 5, 6,12], 'ro')\n",
        "plt.show()\n"
      ],
      "execution_count": 43,
      "outputs": [
        {
          "output_type": "display_data",
          "data": {
            "image/png": "[encoded data removed]",
            "text/plain": [
              "<Figure size 432x288 with 1 Axes>"
            ]
          },
          "metadata": {
            "tags": []
          }
        }
      ]
    },
    {
      "cell_type": "code",
      "metadata": {
        "id": "Pq9nR0P3qrFb",
        "colab_type": "code",
        "outputId": "db6dd73c-6d61-453d-f40f-7eeba7036fd8",
        "colab": {
          "base_uri": "https://localhost:8080/",
          "height": 282
        }
      },
      "source": [
        "# We can also change the marker type, let's it a try using marker type +: \n",
        "\n",
        "plt.plot([1, 2, 3, 4, 5], [1, 4, 5, 6,12], marker = '+')"
      ],
      "execution_count": 44,
      "outputs": [
        {
          "output_type": "execute_result",
          "data": {
            "text/plain": [
              "[<matplotlib.lines.Line2D at 0x7f5ff7ef8438>]"
            ]
          },
          "metadata": {
            "tags": []
          },
          "execution_count": 44
        },
        {
          "output_type": "display_data",
          "data": {
            "image/png": "[encoded data removed]",
            "text/plain": [
              "<Figure size 432x288 with 1 Axes>"
            ]
          },
          "metadata": {
            "tags": []
          }
        }
      ]
    },
    {
      "cell_type": "code",
      "metadata": {
        "id": "Bw5gN7iiqxCP",
        "colab_type": "code",
        "outputId": "72055d50-a852-4084-fcfc-e65828a14210",
        "colab": {
          "base_uri": "https://localhost:8080/",
          "height": 282
        }
      },
      "source": [
        "# define line color, color is singnalized using the letter 'c' or 'color'\n",
        "\n",
        "plt.plot([1, 2, 3, 4, 5], [1, 4, 5, 6,12], marker = '+', c = 'b', alpha = 0.8)"
      ],
      "execution_count": 50,
      "outputs": [
        {
          "output_type": "execute_result",
          "data": {
            "text/plain": [
              "[<matplotlib.lines.Line2D at 0x7f5ff7c7c438>]"
            ]
          },
          "metadata": {
            "tags": []
          },
          "execution_count": 50
        },
        {
          "output_type": "display_data",
          "data": {
            "image/png": "[encoded data removed]",
            "text/plain": [
              "<Figure size 432x288 with 1 Axes>"
            ]
          },
          "metadata": {
            "tags": []
          }
        }
      ]
    },
    {
      "cell_type": "markdown",
      "metadata": {
        "id": "1fDa_pYyrSJh",
        "colab_type": "text"
      },
      "source": [
        "### A little more about colors in pyplot: \n",
        "- Here's more information on different color codes on matplotlib: https://matplotlib.org/2.0.2/api/colors_api.html\n",
        "- For more specific colors you can use hex strings (similiar to how we did so on QGIS), to do so you need to write the exact hex code: color = '#eeefff' \n",
        "you can find the exact hex color code you are looking for here: https://htmlcolorcodes.com/ "
      ]
    },
    {
      "cell_type": "code",
      "metadata": {
        "id": "xYYb3apSrSxy",
        "colab_type": "code",
        "outputId": "100fc941-62f3-466b-cfca-fa9d00f3d37b",
        "colab": {
          "base_uri": "https://localhost:8080/",
          "height": 282
        }
      },
      "source": [
        "# using alpha, you can control the transparency level\n",
        "\n",
        "plt.plot([1, 2, 3, 4, 5], [1, 4, 5, 6,12], marker = '+', c = 'm', alpha = 0.3)\n"
      ],
      "execution_count": 51,
      "outputs": [
        {
          "output_type": "execute_result",
          "data": {
            "text/plain": [
              "[<matplotlib.lines.Line2D at 0x7f5ff7c5ee10>]"
            ]
          },
          "metadata": {
            "tags": []
          },
          "execution_count": 51
        },
        {
          "output_type": "display_data",
          "data": {
            "image/png": "[encoded data removed]",
            "text/plain": [
              "<Figure size 432x288 with 1 Axes>"
            ]
          },
          "metadata": {
            "tags": []
          }
        }
      ]
    },
    {
      "cell_type": "code",
      "metadata": {
        "id": "6HvCYHyqrYJ_",
        "colab_type": "code",
        "outputId": "f15b6acc-22a9-447a-d203-fda4282c2a67",
        "colab": {
          "base_uri": "https://localhost:8080/",
          "height": 282
        }
      },
      "source": [
        "# changing line style: \n",
        "\n",
        "plt.plot([1, 2, 3, 3, 5], [1, 4, 5, 12,20], ls = ':', c = 'm', alpha = 0.8)\n",
        "\n"
      ],
      "execution_count": 54,
      "outputs": [
        {
          "output_type": "execute_result",
          "data": {
            "text/plain": [
              "[<matplotlib.lines.Line2D at 0x7f5ff8038470>]"
            ]
          },
          "metadata": {
            "tags": []
          },
          "execution_count": 54
        },
        {
          "output_type": "display_data",
          "data": {
            "image/png": "[encoded data removed]",
            "text/plain": [
              "<Figure size 432x288 with 1 Axes>"
            ]
          },
          "metadata": {
            "tags": []
          }
        }
      ]
    },
    {
      "cell_type": "markdown",
      "metadata": {
        "id": "CK8NLqrouSAQ",
        "colab_type": "text"
      },
      "source": [
        "## A. Try it your own  \n",
        "1. plot a line with these (x,y) points: (1,1), (3,4), (5,4.5)\n",
        "2. set line style to: '--'\n",
        "3. set the color to cyan \n",
        "4.. set the transparency level to 0.6\n",
        "\n"
      ]
    },
    {
      "cell_type": "code",
      "metadata": {
        "id": "sws_SKaXrdXR",
        "colab_type": "code",
        "colab": {}
      },
      "source": [
        "# write your code here... "
      ],
      "execution_count": 0,
      "outputs": []
    },
    {
      "cell_type": "markdown",
      "metadata": {
        "id": "9IvivbWc9Jev",
        "colab_type": "text"
      },
      "source": [
        "## 3. Now let's complicate things, just a little bit!\n",
        "JK the next chart is pretty much the same as teh previuos one, with slight design changes"
      ]
    },
    {
      "cell_type": "code",
      "metadata": {
        "id": "LC8TAruxrqV1",
        "colab_type": "code",
        "outputId": "e6000045-db59-4ab1-e4c1-400bf6f5d313",
        "colab": {
          "base_uri": "https://localhost:8080/",
          "height": 264
        }
      },
      "source": [
        "\n",
        "line1 = plt.plot([1, 2, 2.5, 4, 5], [1, 3.8, 5, 6,12],marker = '+', c = '#142BD3FF')\n",
        "line2 = plt.plot([1.5, 2, 3, 4, 5], [1, 4, 5, 12,15], marker = '.', c = 'r')\n",
        "#let's add a title \n",
        "plt.title('Two lines: red & blue')\n",
        "#and now add both axis\n",
        "#plt.ylabel('this is Y')\n",
        "#plt.xlabel('this is X')\n",
        "# remove axis: \n",
        "plt.axis('off')\n",
        "# I can choose the location of text so I can have the next right near each line\n",
        "\n",
        "plt.text(4.9,12.6, 'blue line')\n",
        "plt.text(4.9,15.5, 'red line')\n",
        "plt.show()"
      ],
      "execution_count": 66,
      "outputs": [
        {
          "output_type": "display_data",
          "data": {
            "image/png": "[encoded data removed]",
            "text/plain": [
              "<Figure size 432x288 with 1 Axes>"
            ]
          },
          "metadata": {
            "tags": []
          }
        }
      ]
    },
    {
      "cell_type": "markdown",
      "metadata": {
        "id": "rxB9zPj9_hRB",
        "colab_type": "text"
      },
      "source": [
        "## 4. Multiple charts "
      ]
    },
    {
      "cell_type": "code",
      "metadata": {
        "id": "16qQwKoC_gbp",
        "colab_type": "code",
        "outputId": "97bea391-3ee9-4679-9bdb-6bf7f581e1a0",
        "colab": {
          "base_uri": "https://localhost:8080/",
          "height": 320
        }
      },
      "source": [
        "#let's go back to our initial charts: \n",
        "\n",
        "# fig1 is the 1st chart, we will define the size we want the chart to be displayed with \"figsize\": \n",
        "fig1 = plt.figure(1, figsize= (12,5))\n",
        "\n",
        "#now let's add the 1st chart to our plot using the \"add_subplot\" function\n",
        "# the number 121 will set the location of the subplot \n",
        "# this means that we creates a 1 on 2 grid. \n",
        "#One row and two columns. \n",
        "#The last one means that chart 1 will be displayed first and\n",
        "# chart 2 will be displayed 2nd in the grid\n",
        "\n",
        "chart1 = fig1.add_subplot(122)\n",
        "\n",
        "#let's add the 2nd chart, located in 122\n",
        "chart2 = fig1.add_subplot(121)\n",
        "\n",
        "# now let's add the data into these two charts:\n",
        "\n",
        "#the first one, year and stock price:\n",
        "chart1.plot(year, Stock_index_price, 'c')\n",
        "\n",
        "#2nd chart with year and income \n",
        "chart2.plot(year, mean_income, 'b')\n",
        "\n",
        "\n",
        "#in the same way, using this grid we can create many more charts together \n",
        "\n",
        " \n",
        "\n",
        "plt.show()\n",
        "\n",
        "# once we visualize this we will see that we will see that we will have two charts. \n",
        "# Each chart will have its own X and Y axis "
      ],
      "execution_count": 69,
      "outputs": [
        {
          "output_type": "display_data",
          "data": {
            "image/png": "[encoded data removed]",
            "text/plain": [
              "<Figure size 864x360 with 2 Axes>"
            ]
          },
          "metadata": {
            "tags": []
          }
        }
      ]
    },
    {
      "cell_type": "markdown",
      "metadata": {
        "id": "Kk9GzTP-HGx9",
        "colab_type": "text"
      },
      "source": [
        "## 5. Bar Plots: "
      ]
    },
    {
      "cell_type": "markdown",
      "metadata": {
        "id": "XY93EwJXr1zK",
        "colab_type": "text"
      },
      "source": [
        "\n",
        "\n",
        "Let's say we want to compare the mean temperatures in NYC with those of SF. Comparing both in a bar plot will make it clear to compare values month-by-month. I got the monthely data from here: https://www.currentresults.com/index.php "
      ]
    },
    {
      "cell_type": "code",
      "metadata": {
        "id": "pvok7pZJr0Y0",
        "colab_type": "code",
        "colab": {}
      },
      "source": [
        "# first plot only NYC: \n",
        "months = ['Jan', 'Feb', 'Mar', 'Apr', 'May', 'June', 'July', 'August', 'Sep', 'Oct', 'Nov', 'Dec']\n",
        "datanyc = [4,5,10,16,22,26,29,28,24,18,12,6]\n",
        "\n",
        "\n",
        "X = np.arange(len(months))\n",
        "\n",
        "plt.bar(X, datanyc)\n",
        "plt.title('Mean Temp by month in NYC')\n",
        "\n",
        "\n",
        "plt.show()"
      ],
      "execution_count": 0,
      "outputs": []
    },
    {
      "cell_type": "markdown",
      "metadata": {
        "id": "XPZj1AjOsfjU",
        "colab_type": "text"
      },
      "source": [
        "### Now let's plot both NYC and SF in one chart\n",
        "Also make a few cosmetic changes "
      ]
    },
    {
      "cell_type": "code",
      "metadata": {
        "id": "a3pqgmQlsHMJ",
        "colab_type": "code",
        "colab": {}
      },
      "source": [
        "# The first object of data (data[0]) is the NYC mean temp. The second \n",
        "data = [[4,5,10,16,22,26,29,28,24,18,12,6],\n",
        "[14,16,17,17,18,19,19,20,21,21,17,14]]\n",
        "\n",
        "months = ['Jan', 'Feb', 'Mar', 'Apr', 'May', 'June', 'July', 'August', 'Sep', 'Oct', 'Nov', 'Dec']\n",
        "\n",
        "X = np.arange(len(months))\n",
        "fig = plt.figure()\n",
        "ax = fig.add_axes([0,0,1,1])\n",
        "ax.bar(X + 0.00, data[0], color = 'b', width = 0.35, alpha = 0.6)\n",
        "ax.bar(X + 0.3, data[1], color = 'c', width = 0.35, alpha = 0.8)\n",
        "\n",
        "# create a DIY legend \n",
        "plt.text(0.1,28, 'NYC', c= 'b')\n",
        "plt.text(0.1,26.5, 'San Francisco', c = 'c')\n",
        "\n",
        "#set the x length and lables to be months names \n",
        "#ax.set_xticks(x)\n",
        "#ax.set_xticklabels(labels, c='m')\n",
        "\n",
        "# add title\n",
        "\n",
        "#ax.set_title('Mean Temp by month in SF & NYC', c= 'm')\n",
        "\n",
        "\n",
        "plt.show()"
      ],
      "execution_count": 0,
      "outputs": []
    },
    {
      "cell_type": "markdown",
      "metadata": {
        "id": "7TcDAH8euN6e",
        "colab_type": "text"
      },
      "source": [
        "### Your turn:\n",
        "B. Visualize as bar plot some of the world most populated cities (in millions):\n",
        "\n",
        "    Tokyo      13\n",
        "    Jakarta    10.1\n",
        "    Chongqing  30\n",
        "    Manila     1.8\n",
        "    Delhi.     16.7\n",
        "    Seoul      9.8\n",
        "    Mumbai     12.5\n",
        "    Shanghai   24.2\n",
        "    Sao Paulo  12.2"
      ]
    },
    {
      "cell_type": "code",
      "metadata": {
        "id": "KJ2ZIHePuNZ9",
        "colab_type": "code",
        "colab": {}
      },
      "source": [
        "# your code here: "
      ],
      "execution_count": 0,
      "outputs": []
    },
    {
      "cell_type": "markdown",
      "metadata": {
        "id": "no0NnlgBu4v5",
        "colab_type": "text"
      },
      "source": [
        "# There are many more cool stuff to do with Pyplot\n",
        " see if you can explore on your own\n"
      ]
    },
    {
      "cell_type": "code",
      "metadata": {
        "id": "2GMdtl_Iujun",
        "colab_type": "code",
        "colab": {}
      },
      "source": [
        "N = 9\n",
        "x = 1,2.5,3,4,5,6,7,8,11\n",
        "y = 12,3,4,1,8,5,8,11,2\n",
        "colors = np.random.rand(N)\n",
        "area = 100,550,6000,70,800,100,500,2000,303\n",
        "plt.scatter(x, y, s=area, c=colors, alpha=0.5)\n",
        "plt.show()"
      ],
      "execution_count": 0,
      "outputs": []
    },
    {
      "cell_type": "code",
      "metadata": {
        "id": "oei0RefPuuVs",
        "colab_type": "code",
        "colab": {}
      },
      "source": [
        ""
      ],
      "execution_count": 0,
      "outputs": []
    }
  ]
}